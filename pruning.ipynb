{
  "nbformat": 4,
  "nbformat_minor": 0,
  "metadata": {
    "colab": {
      "name": "pruning.ipynb",
      "version": "0.3.2",
      "provenance": [],
      "collapsed_sections": [],
      "include_colab_link": true
    },
    "kernelspec": {
      "name": "python3",
      "display_name": "Python 3"
    },
    "accelerator": "GPU"
  },
  "cells": [
    {
      "cell_type": "markdown",
      "metadata": {
        "id": "view-in-github",
        "colab_type": "text"
      },
      "source": [
        "<a href=\"https://colab.research.google.com/github/Ankit-2000/Pruning-neural-network/blob/master/pruning.ipynb\" target=\"_parent\"><img src=\"https://colab.research.google.com/assets/colab-badge.svg\" alt=\"Open In Colab\"/></a>"
      ]
    },
    {
      "metadata": {
        "id": "rO0U1Rwj3-9l",
        "colab_type": "code",
        "outputId": "fa9a5248-aa4d-4e37-ce61-22715d5d6774",
        "colab": {
          "base_uri": "https://localhost:8080/",
          "height": 50
        }
      },
      "cell_type": "code",
      "source": [
        "import tensorflow as tf\n",
        "import matplotlib.pyplot as plt\n",
        "import numpy as np\n",
        "\n",
        "mnist = tf.keras.datasets.mnist\n",
        "\n",
        "(x_train, y_train), (x_test, y_test) = mnist.load_data()\n",
        "x_train, x_test = x_train / 255.0, x_test / 255.0"
      ],
      "execution_count": 0,
      "outputs": [
        {
          "output_type": "stream",
          "text": [
            "Downloading data from https://storage.googleapis.com/tensorflow/tf-keras-datasets/mnist.npz\n",
            "11493376/11490434 [==============================] - 0s 0us/step\n"
          ],
          "name": "stdout"
        }
      ]
    },
    {
      "metadata": {
        "id": "K3Ojfu0p4QKa",
        "colab_type": "code",
        "outputId": "4e561932-6f9b-4775-b908-21384cc43f9b",
        "colab": {
          "base_uri": "https://localhost:8080/",
          "height": 87
        }
      },
      "cell_type": "code",
      "source": [
        "model = tf.keras.models.Sequential([ \\\n",
        "  tf.keras.layers.Flatten(input_shape=(28, 28)), \\\n",
        "  tf.keras.layers.Dense(1000, activation=tf.nn.relu),\\\n",
        "  tf.keras.layers.Dense(1000, activation=tf.nn.relu),\\\n",
        "  tf.keras.layers.Dense(500, activation=tf.nn.relu),\\\n",
        "  tf.keras.layers.Dense(200, activation=tf.nn.relu),\\\n",
        "  tf.keras.layers.Dense(10, activation=tf.nn.softmax)\\\n",
        "])\n",
        "# text_model is just used for testing our pruning results, the reason for using a diff model is that in colab \n",
        "# I wanted to run a section of code again and again, leading to loosing the original weight matrix obtained\n",
        "# so, .set_weights() is applied on test_model\n",
        "test_model = tf.keras.models.Sequential([\\\n",
        "  tf.keras.layers.Flatten(input_shape=(28, 28)),\\\n",
        "  tf.keras.layers.Dense(1000, activation=tf.nn.relu),\\\n",
        "  tf.keras.layers.Dense(1000, activation=tf.nn.relu),\\\n",
        "  tf.keras.layers.Dense(500, activation=tf.nn.relu),\\\n",
        "  tf.keras.layers.Dense(200, activation=tf.nn.relu),\\\n",
        "  tf.keras.layers.Dense(10, activation=tf.nn.softmax)\\\n",
        "])"
      ],
      "execution_count": 0,
      "outputs": [
        {
          "output_type": "stream",
          "text": [
            "WARNING:tensorflow:From /usr/local/lib/python3.6/dist-packages/tensorflow/python/ops/resource_variable_ops.py:435: colocate_with (from tensorflow.python.framework.ops) is deprecated and will be removed in a future version.\n",
            "Instructions for updating:\n",
            "Colocations handled automatically by placer.\n"
          ],
          "name": "stdout"
        }
      ]
    },
    {
      "metadata": {
        "id": "PY9AL-w44vy5",
        "colab_type": "code",
        "outputId": "010d7fab-7a1d-42e9-dd42-87fe34bde89f",
        "colab": {
          "base_uri": "https://localhost:8080/",
          "height": 218
        }
      },
      "cell_type": "code",
      "source": [
        "model.compile(optimizer='adam', loss='sparse_categorical_crossentropy', metrics=['accuracy'])\n",
        "test_model.compile(optimizer='adam', loss='sparse_categorical_crossentropy', metrics=['accuracy'])\n",
        "\n",
        "model.fit(x_train, y_train, epochs=5)\n",
        "model.evaluate(x_test, y_test)\n",
        "initial_acc = model.evaluate(x_test, y_test)[1]"
      ],
      "execution_count": 0,
      "outputs": [
        {
          "output_type": "stream",
          "text": [
            "Epoch 1/5\n",
            "60000/60000 [==============================] - 17s 288us/sample - loss: 0.2134 - acc: 0.9369\n",
            "Epoch 2/5\n",
            "60000/60000 [==============================] - 17s 275us/sample - loss: 0.1036 - acc: 0.9708\n",
            "Epoch 3/5\n",
            "60000/60000 [==============================] - 16s 273us/sample - loss: 0.0789 - acc: 0.9777\n",
            "Epoch 4/5\n",
            "60000/60000 [==============================] - 16s 273us/sample - loss: 0.0620 - acc: 0.9827\n",
            "Epoch 5/5\n",
            "60000/60000 [==============================] - 16s 271us/sample - loss: 0.0505 - acc: 0.9857\n",
            "10000/10000 [==============================] - 1s 90us/sample - loss: 0.0939 - acc: 0.9766\n",
            "10000/10000 [==============================] - 1s 85us/sample - loss: 0.0939 - acc: 0.9766\n"
          ],
          "name": "stdout"
        }
      ]
    },
    {
      "metadata": {
        "id": "O4vZeTrB48Nv",
        "colab_type": "code",
        "colab": {}
      },
      "cell_type": "code",
      "source": [
        "WEIGHT_MATRIX = model.get_weights()\n",
        "COMPLETE_MATRIX = {}\n",
        "# COMPLETE_MATRIX is dict that contains the key as (indice of the WEIGHT_MATRIX, row, column of the weight) and value as the weight.\n",
        "LAYER = 0\n",
        "while LAYER < len(WEIGHT_MATRIX)-2:\n",
        "  for rows in range(WEIGHT_MATRIX[LAYER].shape[0]):\n",
        "      for columns in range(WEIGHT_MATRIX[LAYER].shape[1]):\n",
        "          COMPLETE_MATRIX[(LAYER, rows, columns)] = WEIGHT_MATRIX[LAYER][rows][columns]\n",
        "  LAYER += 2\n",
        "\n",
        "'''\n",
        "        sorted() sorts the dict as per the abs value of the values and is stored in the form of an array \n",
        "        sort will be of the form ((a,b,c), weight) in ascending order of weights\n",
        "        where, \n",
        "        a ---> layer i.e. 1,2,3\n",
        "        b ---> row \n",
        "        c ---> column\n",
        "\n",
        "        weight ---> weight of the corresponding neuron\n",
        "\n",
        "        sort can be accesssed in the following ways :\n",
        "        \n",
        "        Eg. if  a = [((3, 190, 156), 4.8154054), ((2, 190, 156), 4.8154054)]\n",
        "        \n",
        "        a[0] ---------> ((3, 190, 156), 4.8154054)\n",
        "\n",
        "        a[0][1] ------> 4.8154054\n",
        "        a[0][0] ------> (3, 190, 156)\n",
        "        \n",
        "        a[0][0][1] ---> 190\n",
        "        a[0][0][2] ---> 156\n",
        "        a[0][0][0] ---> 3\n",
        "'''\n",
        "# Sorting the dict\n",
        "sort = sorted(COMPLETE_MATRIX.items(), key=lambda kv: abs(kv[1]))"
      ],
      "execution_count": 0,
      "outputs": []
    },
    {
      "metadata": {
        "id": "NYXawOcc7guo",
        "colab_type": "code",
        "cellView": "code",
        "outputId": "7e8f60d1-76aa-47d1-ff79-8a90b71b8b7f",
        "colab": {
          "base_uri": "https://localhost:8080/",
          "height": 663
        }
      },
      "cell_type": "code",
      "source": [
        "# more %k were added to get a better plot\n",
        "k = [0, 25, 35, 50, 60, 70, 80, 85, 86, 87, 88, 89, 90, 91, 93, 95, 97, 99]\n",
        "Accuracy_prunned = []\n",
        "for values in k:\n",
        "    i = 0\n",
        "    total_weights = len(sort)\n",
        "    weights_to_be_prunned = values*total_weights/100\n",
        "    while i < int(weights_to_be_prunned):\n",
        "      WEIGHT_MATRIX[sort[i][0][0]][sort[i][0][1], sort[i][0][2]] = 0\n",
        "      i += 1\n",
        "#   setting the wts for test_model    \n",
        "    test_model.set_weights(WEIGHT_MATRIX)    \n",
        "    Accuracy_prunned.append(test_model.evaluate(x_test, y_test)[1]) \n",
        "\n",
        "plt.plot(k, Accuracy_prunned, 'r', marker='o')\n",
        "plt.xlabel('K%')\n",
        "plt.ylabel('Accuracy')\n",
        "plt.show()"
      ],
      "execution_count": 0,
      "outputs": [
        {
          "output_type": "stream",
          "text": [
            "10000/10000 [==============================] - 1s 92us/sample - loss: 0.0939 - acc: 0.9766\n",
            "10000/10000 [==============================] - 1s 86us/sample - loss: 0.0935 - acc: 0.9767\n",
            "10000/10000 [==============================] - 1s 86us/sample - loss: 0.0914 - acc: 0.9772\n",
            "10000/10000 [==============================] - 1s 85us/sample - loss: 0.0898 - acc: 0.9770\n",
            "10000/10000 [==============================] - 1s 86us/sample - loss: 0.0926 - acc: 0.9756\n",
            "10000/10000 [==============================] - 1s 86us/sample - loss: 0.1013 - acc: 0.9742\n",
            "10000/10000 [==============================] - 1s 85us/sample - loss: 0.1792 - acc: 0.9618\n",
            "10000/10000 [==============================] - 1s 84us/sample - loss: 0.3704 - acc: 0.9381\n",
            "10000/10000 [==============================] - 1s 87us/sample - loss: 0.4402 - acc: 0.9294\n",
            "10000/10000 [==============================] - 1s 86us/sample - loss: 0.5239 - acc: 0.9163\n",
            "10000/10000 [==============================] - 1s 85us/sample - loss: 0.6210 - acc: 0.8966\n",
            "10000/10000 [==============================] - 1s 86us/sample - loss: 0.7329 - acc: 0.8611\n",
            "10000/10000 [==============================] - 1s 84us/sample - loss: 0.8820 - acc: 0.8131\n",
            "10000/10000 [==============================] - 1s 85us/sample - loss: 1.0519 - acc: 0.7458\n",
            "10000/10000 [==============================] - 1s 86us/sample - loss: 1.4387 - acc: 0.5529\n",
            "10000/10000 [==============================] - 1s 85us/sample - loss: 1.8504 - acc: 0.2370\n",
            "10000/10000 [==============================] - 1s 86us/sample - loss: 2.2388 - acc: 0.1054\n",
            "10000/10000 [==============================] - 1s 86us/sample - loss: 2.4412 - acc: 0.0974\n"
          ],
          "name": "stdout"
        },
        {
          "output_type": "display_data",
          "data": {
            "image/png": "[encoded data removed]",
            "text/plain": [
              "<Figure size 576x396 with 1 Axes>"
            ]
          },
          "metadata": {
            "tags": []
          }
        }
      ]
    },
    {
      "metadata": {
        "id": "ETVvJ4auQaez",
        "colab_type": "code",
        "outputId": "b85b2dd8-2e5e-4a32-ea61-1d0f61a73e2a",
        "colab": {
          "base_uri": "https://localhost:8080/",
          "height": 54
        }
      },
      "cell_type": "code",
      "source": [
        "WEIGHT_MATRIX = model.get_weights()\n",
        "COMPLETE_MATRIX = {}\n",
        "LAYER = 0\n",
        "\n",
        "while LAYER < len(WEIGHT_MATRIX)-2:\n",
        "  temp_row_vector = np.linalg.norm(WEIGHT_MATRIX[LAYER], axis=0)\n",
        "  for columns in range(WEIGHT_MATRIX[LAYER].shape[1]):\n",
        "     COMPLETE_MATRIX[(LAYER, columns)] = temp_row_vector[columns]\n",
        "  LAYER += 2\n",
        "sort = sorted(COMPLETE_MATRIX.items(), key=lambda kv: kv[1])\n",
        "\n",
        "'''\n",
        "        sort will be of the form ((a,b), c) in ascending order of weights where,\n",
        "        a ---> layer i.e. 0,2,4,6,8\n",
        "        b ---> column \n",
        "        c ---> L2-norm of the column vector\n",
        "        \n",
        "        sort can be accesssed in the following ways :\n",
        "        \n",
        "        Eg. if  a = [((3, 190), 4.8154054), ((2, 190), 4.8154054)]\n",
        "        a[0] ---------> ((3, 190), 4.8154054)\n",
        "        a[0][1] ------> 4.8154054\n",
        "        a[0][0] ------> (3, 190)\n",
        "'''\n"
      ],
      "execution_count": 0,
      "outputs": [
        {
          "output_type": "execute_result",
          "data": {
            "text/plain": [
              "'\\n        sort will be of the form ((a,b), c) in ascending order of weights where,\\n        a ---> layer i.e. 0,2,4,6,8\\n        b ---> column \\n        c ---> L2-norm of the column vector\\n        \\n        sort can be accesssed in the following ways :\\n        \\n        Eg. if  a = [((3, 190), 4.8154054), ((2, 190), 4.8154054)]\\n        a[0] ---------> ((3, 190), 4.8154054)\\n        a[0][1] ------> 4.8154054\\n        a[0][0] ------> (3, 190)\\n'"
            ]
          },
          "metadata": {
            "tags": []
          },
          "execution_count": 6
        }
      ]
    },
    {
      "metadata": {
        "id": "znTKPGmzaBCx",
        "colab_type": "code",
        "outputId": "78385af5-c7f7-4ec4-d0f2-515d32db013c",
        "colab": {
          "base_uri": "https://localhost:8080/",
          "height": 865
        }
      },
      "cell_type": "code",
      "source": [
        "# more %k were added to get a better plot\n",
        "WEIGHT_MATRIX = model.get_weights()\n",
        "k_for_neurons = [0, 10, 15, 16, 17, 18, 19, 20, 21, 22, 23, 24, 25, 26, 27, 28, 30, 35, 40, 50, 55, 60, 65, 70, 80, 85, 90, 95, 97, 99]\n",
        "corresponding_wt= []\n",
        "total = 784*1000 + 1000*1000 + 1000*500 + 500*200\n",
        "Accuracy_neuron_prunning = []\n",
        "\n",
        "for values in k_for_neurons:\n",
        "    total_neurons = len(sort)\n",
        "    neurons_to_be_prunned = values*total_neurons/100\n",
        "    i = 0\n",
        "    temp = 0\n",
        "    while i < int(neurons_to_be_prunned):\n",
        "      WEIGHT_MATRIX[sort[i][0][0]][:, sort[i][0][1]] = 0\n",
        "      temp += WEIGHT_MATRIX[sort[i][0][0]].shape[1]\n",
        "      i += 1\n",
        "    corresponding_wt.append((temp)*100/total)\n",
        "#   setting the wts for test_model    \n",
        "    test_model.set_weights(WEIGHT_MATRIX)\n",
        "    Accuracy_neuron_prunning.append(test_model.evaluate(x_test, y_test)[1])\n",
        "\n",
        "      \n",
        "plt.plot(corresponding_wt, Accuracy_neuron_prunning, marker='o')\n",
        "plt.xlabel('K%')\n",
        "plt.ylabel('Accuracy')\n",
        "plt.show()"
      ],
      "execution_count": 0,
      "outputs": [
        {
          "output_type": "stream",
          "text": [
            "10000/10000 [==============================] - 1s 85us/sample - loss: 0.0939 - acc: 0.9766\n",
            "10000/10000 [==============================] - 1s 89us/sample - loss: 0.0938 - acc: 0.9767\n",
            "10000/10000 [==============================] - 1s 86us/sample - loss: 0.0962 - acc: 0.9763\n",
            "10000/10000 [==============================] - 1s 85us/sample - loss: 0.0961 - acc: 0.9753\n",
            "10000/10000 [==============================] - 1s 86us/sample - loss: 0.0965 - acc: 0.9753\n",
            "10000/10000 [==============================] - 1s 86us/sample - loss: 0.0967 - acc: 0.9746\n",
            "10000/10000 [==============================] - 1s 85us/sample - loss: 0.0962 - acc: 0.9745\n",
            "10000/10000 [==============================] - 1s 90us/sample - loss: 0.0969 - acc: 0.9743\n",
            "10000/10000 [==============================] - 1s 86us/sample - loss: 0.1108 - acc: 0.9700\n",
            "10000/10000 [==============================] - 1s 85us/sample - loss: 0.1212 - acc: 0.9684\n",
            "10000/10000 [==============================] - 1s 85us/sample - loss: 0.1925 - acc: 0.9507\n",
            "10000/10000 [==============================] - 1s 86us/sample - loss: 0.2276 - acc: 0.9331\n",
            "10000/10000 [==============================] - 1s 85us/sample - loss: 0.2447 - acc: 0.9242\n",
            "10000/10000 [==============================] - 1s 84us/sample - loss: 0.3787 - acc: 0.8542\n",
            "10000/10000 [==============================] - 1s 87us/sample - loss: 0.4209 - acc: 0.8646\n",
            "10000/10000 [==============================] - 1s 85us/sample - loss: 0.5331 - acc: 0.8433\n",
            "10000/10000 [==============================] - 1s 85us/sample - loss: 0.7962 - acc: 0.8071\n",
            "10000/10000 [==============================] - 1s 88us/sample - loss: 1.5114 - acc: 0.3855\n",
            "10000/10000 [==============================] - 1s 86us/sample - loss: 2.3540 - acc: 0.0974\n",
            "10000/10000 [==============================] - 1s 85us/sample - loss: 2.4212 - acc: 0.0974\n",
            "10000/10000 [==============================] - 1s 84us/sample - loss: 2.4212 - acc: 0.0974\n",
            "10000/10000 [==============================] - 1s 85us/sample - loss: 2.4212 - acc: 0.0974\n",
            "10000/10000 [==============================] - 1s 86us/sample - loss: 2.4212 - acc: 0.0974\n",
            "10000/10000 [==============================] - 1s 86us/sample - loss: 2.4212 - acc: 0.0974\n",
            "10000/10000 [==============================] - 1s 86us/sample - loss: 2.4212 - acc: 0.0974\n",
            "10000/10000 [==============================] - 1s 87us/sample - loss: 2.4212 - acc: 0.0974\n",
            "10000/10000 [==============================] - 1s 87us/sample - loss: 2.4212 - acc: 0.0974\n",
            "10000/10000 [==============================] - 1s 84us/sample - loss: 2.4212 - acc: 0.0974\n",
            "10000/10000 [==============================] - 1s 85us/sample - loss: 2.4212 - acc: 0.0974\n",
            "10000/10000 [==============================] - 1s 86us/sample - loss: 2.4212 - acc: 0.0974\n"
          ],
          "name": "stdout"
        },
        {
          "output_type": "display_data",
          "data": {
            "image/png": "[encoded data removed]",
            "text/plain": [
              "<Figure size 576x396 with 1 Axes>"
            ]
          },
          "metadata": {
            "tags": []
          }
        }
      ]
    },
    {
      "metadata": {
        "id": "aLYUis2DaRa7",
        "colab_type": "code",
        "outputId": "65694db5-0811-490e-ffda-b47a5f214bef",
        "colab": {
          "base_uri": "https://localhost:8080/",
          "height": 361
        }
      },
      "cell_type": "code",
      "source": [
        "plt.plot(corresponding_wt, Accuracy_neuron_prunning, k, Accuracy_prunned, marker='o')\n",
        "plt.xlabel('K%')\n",
        "plt.ylabel('Accuracy')\n",
        "plt.show()"
      ],
      "execution_count": 0,
      "outputs": [
        {
          "output_type": "display_data",
          "data": {
            "image/png": "[encoded data removed]",
            "text/plain": [
              "<Figure size 576x396 with 1 Axes>"
            ]
          },
          "metadata": {
            "tags": []
          }
        }
      ]
    },
    {
      "metadata": {
        "id": "Z9eoJFJpNIdI",
        "colab_type": "code",
        "outputId": "121af506-582b-4227-e1db-5d5f85316da0",
        "colab": {
          "base_uri": "https://localhost:8080/",
          "height": 34
        }
      },
      "cell_type": "code",
      "source": [
        "'''\n",
        "Code for additional graphs i.e histogram\n",
        "'''\n",
        "# COMPLETE = {}\n",
        "# # COMPLETE_MATRIX is dict that contains the key as (indice of the WEIGHT_MATRIX, row, column of the weight) and value as the weight.\n",
        "# LAYER = 0\n",
        "# while LAYER < len(WEIGHT_MATRIX)-2:\n",
        "#   for rows in range(WEIGHT_MATRIX[LAYER].shape[0]):\n",
        "#       for columns in range(WEIGHT_MATRIX[LAYER].shape[1]):\n",
        "#           COMPLETE[(LAYER, rows, columns)] = WEIGHT_MATRIX[LAYER][rows][columns]\n",
        "#   LAYER += 2\n",
        "\n",
        "# plt.hist(COMPLETE.values(), bins =60)\n",
        "# plt.xlabel('Weights')\n",
        "# plt.ylabel('Frequency')\n",
        "# plt.title('weight distribution for 0% pruning')\n",
        "# plt.show()\n",
        "\n",
        "# k_for_neurons = 25\n",
        "\n",
        "# total = 784*1000 + 1000*1000 + 1000*500 + 500*200\n",
        "# total_neurons = len(sort)\n",
        "# neurons_to_be_prunned = k_for_neurons*total_neurons/100\n",
        "# i = 0\n",
        "# while i < int(neurons_to_be_prunned):\n",
        "#   rows = 0\n",
        "#   while rows<WEIGHT_MATRIX[sort[i][0][0]].shape[0]:\n",
        "#     COMPLETE.pop((sort[i][0][0],rows ,sort[i][0][1]))\n",
        "#     rows += 1\n",
        "#   i += 1\n",
        "\n",
        "# #   setting the wts for test_model    \n",
        "# test_model.set_weights(WEIGHT_MATRIX)\n",
        "# Accuracy_neuron_prunning.append(test_model.evaluate(x_test, y_test)[1])\n",
        "\n",
        "# # COMPLETE = []\n",
        "# # # COMPLETE_MATRIX is dict that contains the key as (indice of the WEIGHT_MATRIX, row, column of the weight) and value as the weight.\n",
        "# # LAYER = 0\n",
        "# # while LAYER < len(WEIGHT_MATRIX)-2:\n",
        "# #   for rows in range(WEIGHT_MATRIX[LAYER].shape[0]):\n",
        "# #       for columns in range(WEIGHT_MATRIX[LAYER].shape[1]):\n",
        "# #           COMPLETE_MATRIX.append(WEIGHT_MATRIX[LAYER][rows][columns])\n",
        "# #   LAYER += 2\n",
        "  \n",
        "# plt.hist(COMPLETE.values(), bins =60)\n",
        "# plt.xlabel('Weights')\n",
        "# plt.ylabel('Frequency')\n",
        "# plt.title('weight distribution for 25% neuron pruning')\n",
        "# plt.show()\n",
        "\n",
        "# total_weights = len(sort)\n",
        "# values = 80\n",
        "# weights_to_be_prunned = values*total_weights/100\n",
        "# while i < int(weights_to_be_prunned):\n",
        "#   WEIGHT_MATRIX[sort[int(i)][0][0]][sort[int(i)][0][1], sort[int(i)][0][2]] = 0\n",
        "#   COMPLETE_MATRIX.pop((sort[i][0][0], sort[i][0][1], sort[i][0][2]))\n",
        "#   i += 1\n",
        "# plt.hist(COMPLETE_MATRIX.values(), bins =60)\n",
        "# plt.xlabel('Weights')\n",
        "# plt.ylabel('Frequency')\n",
        "# plt.title('weight distribution for 80% weight pruning')\n",
        "# plt.show()"
      ],
      "execution_count": 0,
      "outputs": [
        {
          "output_type": "execute_result",
          "data": {
            "text/plain": [
              "'\\nCode for additional graphs i.e histogram\\n'"
            ]
          },
          "metadata": {
            "tags": []
          },
          "execution_count": 9
        }
      ]
    },
    {
      "metadata": {
        "id": "-libYuJmgdpn",
        "colab_type": "code",
        "colab": {}
      },
      "cell_type": "code",
      "source": [
        ""
      ],
      "execution_count": 0,
      "outputs": []
    }
  ]
}